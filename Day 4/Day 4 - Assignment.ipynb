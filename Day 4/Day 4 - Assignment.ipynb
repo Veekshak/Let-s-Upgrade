{
 "cells": [
  {
   "cell_type": "markdown",
   "metadata": {},
   "source": [
    "# ArmStrong Number"
   ]
  },
  {
   "cell_type": "code",
   "execution_count": 1,
   "metadata": {},
   "outputs": [
    {
     "name": "stdout",
     "output_type": "stream",
     "text": [
      "The first armstrong number is 1741725\n"
     ]
    }
   ],
   "source": [
    "# For Loop for getting the numbers fro the range\n",
    "for number in range(1042000,702648266):\n",
    "    \n",
    "    # findind the length for considering the power or order\n",
    "    length=len(str(number))\n",
    "    \n",
    "    # variable to calculate the sum of power of individual digit\n",
    "    sum=0\n",
    "    \n",
    "    temp=number\n",
    "    \n",
    "    # while loop to extract each digit and to find the sum\n",
    "    while (temp>0):\n",
    "        \n",
    "        # To extract the last digit\n",
    "        digit = temp%10\n",
    "        \n",
    "        # calculate the sum\n",
    "        sum+=(digit**length)\n",
    "        \n",
    "        # Eliminate the last digit\n",
    "        temp//=10\n",
    "    \n",
    "    # Condition to check the given number is armstrong\n",
    "    if sum==number:\n",
    "        print('The first armstrong number is',sum)\n",
    "        \n",
    "        # To exit the loop after finding the first Armstrong number\n",
    "        break\n",
    "   \n",
    "    \n",
    "        "
   ]
  },
  {
   "cell_type": "code",
   "execution_count": null,
   "metadata": {},
   "outputs": [],
   "source": []
  },
  {
   "cell_type": "code",
   "execution_count": null,
   "metadata": {},
   "outputs": [],
   "source": []
  }
 ],
 "metadata": {
  "kernelspec": {
   "display_name": "Python 3",
   "language": "python",
   "name": "python3"
  },
  "language_info": {
   "codemirror_mode": {
    "name": "ipython",
    "version": 3
   },
   "file_extension": ".py",
   "mimetype": "text/x-python",
   "name": "python",
   "nbconvert_exporter": "python",
   "pygments_lexer": "ipython3",
   "version": "3.8.3"
  }
 },
 "nbformat": 4,
 "nbformat_minor": 4
}
