{
 "cells": [
  {
   "cell_type": "markdown",
   "metadata": {},
   "source": [
    "# Question 1"
   ]
  },
  {
   "cell_type": "code",
   "execution_count": 6,
   "metadata": {},
   "outputs": [
    {
     "name": "stdout",
     "output_type": "stream",
     "text": [
      "Enter the Altitude\n",
      "1010\n",
      "Bring Down to 1000\n"
     ]
    }
   ],
   "source": [
    "altitude=input(\"Enter the Altitude\\n\")\n",
    "# Using input Function for Taking input from the user\n",
    "\n",
    "# Convert the string input to integer\n",
    "altitude=int(altitude)\n",
    "\n",
    "# Using if-elfi-else structure for Logic\n",
    "if altitude<1000 and altitude>0:\n",
    "    print('Safe to Land')\n",
    "elif altitude>=1000 and altitude<5000:\n",
    "    print('Bring Down to 1000')\n",
    "elif altitude>=5000 :\n",
    "    print('Turn Around')\n",
    "else:\n",
    "    print(\"Wrong Altitude\")"
   ]
  },
  {
   "cell_type": "markdown",
   "metadata": {},
   "source": [
    "# Question 2"
   ]
  },
  {
   "cell_type": "code",
   "execution_count": 16,
   "metadata": {},
   "outputs": [
    {
     "name": "stdout",
     "output_type": "stream",
     "text": [
      "2,3,5,7,11,13,17,19,23,29,31,37,41,43,47,53,59,61,67,71,73,79,83,89,97,101,103,107,109,113,127,131,137,139,149,151,157,163,167,173,179,181,191,193,197,199,"
     ]
    }
   ],
   "source": [
    "# Prime Numbers\n",
    "\n",
    "# To get the numbers we use range\n",
    "for number in range(1,201):\n",
    "    \n",
    "    # To count the number of factors for that number\n",
    "    count = 0\n",
    "    \n",
    "    # Loop to find the number of factorials\n",
    "    for number1 in range(1,number+1):\n",
    "        \n",
    "        # Condition to check whether the number factor or not\n",
    "        if number%number1 == 0 :\n",
    "            \n",
    "            # If divisible to count the factors\n",
    "            count+=1\n",
    "    \n",
    "    # If the Number of Factors is 2 Then it is prime number\n",
    "    if count == 2 :\n",
    "        \n",
    "        # end Function is used to print the output in a single line\n",
    "        print(number,end=',')"
   ]
  },
  {
   "cell_type": "code",
   "execution_count": null,
   "metadata": {},
   "outputs": [],
   "source": []
  }
 ],
 "metadata": {
  "kernelspec": {
   "display_name": "Python 3",
   "language": "python",
   "name": "python3"
  },
  "language_info": {
   "codemirror_mode": {
    "name": "ipython",
    "version": 3
   },
   "file_extension": ".py",
   "mimetype": "text/x-python",
   "name": "python",
   "nbconvert_exporter": "python",
   "pygments_lexer": "ipython3",
   "version": "3.8.3"
  }
 },
 "nbformat": 4,
 "nbformat_minor": 4
}
